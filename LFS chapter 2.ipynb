{
 "cells": [
  {
   "cell_type": "code",
   "id": "initial_id",
   "metadata": {
    "ExecuteTime": {
     "end_time": "2024-08-01T15:08:11.386252Z",
     "start_time": "2024-08-01T15:08:10.690213Z"
    }
   },
   "source": [
    "\n",
    "import numpy as np\n",
    "import pandas as pd\n",
    "import matplotlib.pyplot as plt\n",
    "from bidi.algorithm import get_display"
   ],
   "outputs": [],
   "execution_count": 1
  },
  {
   "cell_type": "code",
   "id": "eb30cbeec93a992f",
   "metadata": {
    "jupyter": {
     "is_executing": true
    }
   },
   "source": [
    "def mean_4_8_4(val):\n",
    "    v = val.rolling(4).mean() \n",
    "    v = (v.shift(12) + v)/2\n",
    "    return v\n",
    "\n",
    "def mean_by_year(times,val):\n",
    "    if isinstance(val, pd.Series):\n",
    "        v = val.groupby(times).mean()\n",
    "    elif isinstance(val,list):\n",
    "        v=np.array(val)\n",
    "        v= list(val.reshape((len(val)//12,12)).mean(axis=1))\n",
    "    elif isinstance(val, np.ndarray):\n",
    "         v= list(val.reshape((len(val)//12,12)).mean(axis=1))\n",
    "    else:\n",
    "        raise ValueError('val must be pd.Series or list or np.ndarray')\n",
    "    t =list(times.to_period('Y').unique().astype(str))\n",
    "    return t,v\n",
    "        "
   ],
   "outputs": [],
   "execution_count": null
  },
  {
   "cell_type": "code",
   "id": "6f657d412617fc8e",
   "metadata": {
    "jupyter": {
     "is_executing": true
    }
   },
   "source": [
    "start='09-10-2014'\n",
    "end='01-12-2023'\n",
    "n=80\n",
    "group_b =0.15\n",
    "y_base_a =40\n",
    "y_base_b = 80\n",
    "employment_real =y_base_a* (1-group_b) + y_base_b*group_b\n",
    "times = pd.period_range(start=start, end=end, freq='M').strftime('%m-%Y')\n",
    "t = len(times)\n",
    "\n",
    "\n",
    "d_sample = dict(color='#00B0F0',linestyle=':')\n",
    "d_4_8_4 = dict(color='#0070C0',linestyle='dashed')\n",
    "d_real = dict(color='r',linestyle='--')\n",
    "d_mean = dict(color='b',linestyle='-')\n",
    "d_group_a = dict(color='green',linestyle='-')\n",
    "d_group_b = dict(color='b',linestyle='-')"
   ],
   "outputs": [],
   "execution_count": null
  },
  {
   "cell_type": "code",
   "id": "5580ffe044312b95",
   "metadata": {
    "jupyter": {
     "is_executing": true
    }
   },
   "source": [
    "x = range(1,35)\n",
    "y_a = np.array([y_base_a]*len(x))\n",
    "y_b = np.array([y_base_b]*len(x))\n",
    "y_real =y_a* (1-group_b) + y_b*group_b\n",
    "fig, ax = plt.subplots()\n",
    "ax.plot(x,y_real,**d_real,label=get_display(\"ממוצע של שתי הקבוצות\"))\n",
    "ax.plot(x,y_a,**d_group_a,label=get_display(\"קבוצה A\"))\n",
    "ax.plot(x,y_b,**d_group_b,label=get_display(\"קבוצה B\"))\n",
    "plt.legend(loc='best')\n",
    "ax.set_ylabel(get_display(\"שיעור התעסוקה\"))\n",
    "plt.show()"
   ],
   "outputs": [],
   "execution_count": null
  },
  {
   "cell_type": "code",
   "id": "d8d3eee31f757a2f",
   "metadata": {
    "jupyter": {
     "is_executing": true
    }
   },
   "source": [
    "x = range(-25,84)\n",
    "group_b_rates = pd.Series([group_b]*(len(x)))\n",
    "group_b_rates[28] = 0.45\n",
    "group_b_rates[64] = 0.45\n",
    "group_a_rates =1-group_b_rates\n",
    "\n",
    "fig, ax = plt.subplots(figsize=(10,5))\n",
    "ax.plot(x,group_a_rates*100,**d_group_a,label=get_display(\"קבוצה A\"))\n",
    "ax.plot(x,group_b_rates*100,**d_group_b,label=get_display(\"קבוצה B\"))\n",
    "ax.set_xticks(x)\n",
    "ax.set_xlim(1,34)\n",
    "plt.legend(loc='best')\n",
    "ax.set_ylabel(get_display(\"\"))\n",
    "plt.show()"
   ],
   "outputs": [],
   "execution_count": null
  },
  {
   "cell_type": "code",
   "id": "b1a00b133a9da736",
   "metadata": {
    "scrolled": true,
    "jupyter": {
     "is_executing": true
    }
   },
   "source": [
    "x = range(-10,84)\n",
    "y_mean =mean_4_8_4(y_base_a* (1-group_b_rates) + y_base_b*group_b_rates).dropna()\n",
    "y_real = [employment_real]*len(y_mean)\n",
    "y_mean.index =y_mean.index -25\n",
    "fig, ax = plt.subplots(figsize=(8.5, 3))\n",
    "\n",
    "ax.plot(x,y_mean,**d_mean,label=get_display('חודשי בסכ\"א עם השוק'))\n",
    "ax.plot(x,y_real,**d_real,label=get_display('חודשי במציאות'),alpha =0.7)\n",
    "\n",
    "ax.set_xticks(x)\n",
    "plt.legend(loc='center right',ncol=1,edgecolor='none')\n",
    "\n",
    "ax.set_ylabel(get_display(\"שיעור תעסוקה חודשי\"))\n",
    "ax.set_xlabel(get_display(\"חודשים\"))\n",
    "ax.set_title(get_display(\"שוק חד פעמי משפיע על שיעור התעסוקה החודשי 8 פעמים\"),fontweight =\"bold\")\n",
    "ax.set_ylim(45,49)\n",
    "ax.set_xlim(1,34)\n",
    "plt.grid(axis = 'y')\n",
    "ax.spines['top'].set_visible(False)\n",
    "ax.spines['right'].set_visible(False)\n",
    "ax.annotate(\"\",\n",
    "             xy=(3, 48), xycoords='data',\n",
    "            xytext=(6, 48), textcoords='data',\n",
    "             arrowprops=dict(arrowstyle=\"<->\"),color='b')\n",
    "ax.annotate(\"\",\n",
    "             xy=(15, 48), xycoords='data',\n",
    "            xytext=(18, 48), textcoords='data',\n",
    "             arrowprops=dict(arrowstyle=\"<->\"),color='b')\n",
    "\n",
    "ax.annotate(\"\", \n",
    "            xy=(7, 45.5), xycoords='data', \n",
    "            xytext=(14, 45.5), textcoords='data',\n",
    "             arrowprops=dict(arrowstyle=\"<->\"),color='b')\n",
    "\n",
    "ax.annotate(4,xy=(4.5, 48.2), xycoords='data', color='b')\n",
    "ax.annotate(4,xy=(16.5, 48.2), xycoords='data',color='b')\n",
    "ax.annotate(8, xy=(10.5, 45.2), xycoords='data',color='b')\n",
    "plt.show()"
   ],
   "outputs": [],
   "execution_count": null
  },
  {
   "cell_type": "code",
   "id": "02625d8d",
   "metadata": {
    "jupyter": {
     "is_executing": true
    }
   },
   "source": [
    "x = range(-10,84)\n",
    "\n",
    "y_mean =mean_4_8_4(y_base_a* (1-group_b_rates) + y_base_b*group_b_rates).dropna()\n",
    "y_real = [employment_real]*len(y_mean)\n",
    "y_mean.index =y_mean.index -25\n",
    "fig, ax = plt.subplots(figsize=(8.5, 3))\n",
    "\n",
    "ax.plot(x,y_mean,**d_mean,label=get_display('חודשי בסכ\"א עם השוק'))\n",
    "ax.plot(x,y_real,**d_real,label=get_display('חודשי במציאות'),alpha =0.7)\n",
    "\n",
    "ax.set_xticks(x)\n",
    "plt.legend(loc='center right',ncol=1,edgecolor='none')\n",
    "ax.set_ylabel(get_display(\"שיעור תעסוקה חודשי\"))\n",
    "ax.set_xlabel(get_display(\"חודשים\"))\n",
    "ax.set_title(get_display(\"שוק חד פעמי משפיע על שיעור התעסוקה במשך 16 חודשים\"),fontweight =\"bold\")\n",
    "ax.set_ylim(45,49)\n",
    "ax.set_xlim(1,34)\n",
    "plt.grid(axis = 'y')\n",
    "ax.spines['top'].set_visible(False)\n",
    "ax.spines['right'].set_visible(False)\n",
    "ax.annotate(\"\",\n",
    "             xy=(3, 48), xycoords='data',\n",
    "            xytext=(18, 48), textcoords='data',\n",
    "             arrowprops=dict(arrowstyle=\"<->\"),color='b')\n",
    "\n",
    "ax.annotate(16, xy=(10.5, 48.2), xycoords='data',color='b')\n",
    "plt.show()"
   ],
   "outputs": [],
   "execution_count": null
  },
  {
   "cell_type": "code",
   "id": "f5cb428f",
   "metadata": {
    "jupyter": {
     "is_executing": true
    }
   },
   "source": [
    "x = range(1,84)\n",
    "y_roll_12 = y_mean.rolling(12).mean().dropna()\n",
    "fig, ax = plt.subplots(figsize=(8.5, 3))\n",
    "\n",
    "\n",
    "ax.plot(x,y_real[11:],**d_real,label=get_display('חודשי במציאות'))\n",
    "ax.plot(x,y_roll_12,**d_mean,label=get_display('חודשי בסכ\"א עם השוק'))\n",
    "ax.set_xticks(x)\n",
    "plt.legend(loc='lower right',ncol=2,edgecolor='none')\n",
    "ax.set_ylabel(get_display(\"שיעור תעסוקה שנה אחרונה\"))\n",
    "ax.set_xlabel(get_display(\"חודשים\"))\n",
    "ax.set_title(get_display(\"ממוצע שיעור התעסוקה 12 חודשים אחרונים\"),fontweight =\"bold\")\n",
    "ax.set_ylim(44,48)\n",
    "ax.set_xlim(1,34)\n",
    "plt.grid(axis = 'y')\n",
    "ax.spines['top'].set_visible(False)\n",
    "ax.spines['right'].set_visible(False)\n",
    "ax.annotate(\"\",\n",
    "             xy=(3, 47), xycoords='data',\n",
    "                              xytext=(30, 47), textcoords='data',\n",
    "             arrowprops=dict(arrowstyle=\"<->\"),color='b')\n",
    "\n",
    "ax.annotate(27,\n",
    "            xy=(16.5, 46.7), xycoords='data',\n",
    "            color='b')\n",
    "\n",
    "ax.annotate(get_display(\"בממוצע לשנה האחרונה, שוק חד פעמי משפיע 27 חודשים קדימה\"),\n",
    "            xy=(5.5, 47.5), xycoords='data',bbox = dict(boxstyle=\"round\", fc=\"lightblue\",ec='None',alpha=0.5))\n",
    "\n",
    "\n",
    "\n",
    "plt.show()"
   ],
   "outputs": [],
   "execution_count": null
  }
 ],
 "metadata": {
  "kernelspec": {
   "display_name": "Python 3 (ipykernel)",
   "language": "python",
   "name": "python3"
  },
  "language_info": {
   "codemirror_mode": {
    "name": "ipython",
    "version": 3
   },
   "file_extension": ".py",
   "mimetype": "text/x-python",
   "name": "python",
   "nbconvert_exporter": "python",
   "pygments_lexer": "ipython3",
   "version": "3.11.5"
  }
 },
 "nbformat": 4,
 "nbformat_minor": 5
}
